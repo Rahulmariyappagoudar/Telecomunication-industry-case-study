{
 "cells": [
  {
   "cell_type": "markdown",
   "metadata": {
    "id": "QvtD0SxEOPGe"
   },
   "source": [
    "<a id='1'></a><center> <h3 style=\"background-color:orange; color:white\" ><br>Telecommunication Industry Project<br></h3>"
   ]
  },
  {
   "cell_type": "markdown",
   "metadata": {
    "id": "_pzTIrVbOcFF"
   },
   "source": [
    "# Introduction\n",
    "This Jupyter notebook is part of your learning experience in the study of applied statistics.\n",
    "\n",
    "You will work with a data set that contains mobile phone prices and their specifications.\n",
    "\n",
    "**Dataset Columns Information**\n",
    "\n",
    "PID = a unique identifier for the phone model\n",
    "\n",
    "Blue = whether the phone has bluetooth support or not\n",
    "\n",
    "Wi_Fi = whether the phone has wifi support or not\n",
    "\n",
    "Tch_Scr = whether the phone has touch screen support or not\n",
    "\n",
    "Ext_Mem = whether the phone has external memory support or not\n",
    "\n",
    "Px_h = number of pixels in the vertical axis of the phone\n",
    "\n",
    "Px_w = number of pixels in the horizontal axis of the phone\n",
    "\n",
    "Scr_h = height of the screen of the phone in centimetres (cm)\n",
    "\n",
    "Scr_w = width of the screen of the phone in centimetres (cm)\n",
    "\n",
    "Int_Mem = internal memory of the phone measured in megabytes (MB)\n",
    "\n",
    "Bty_Pwr = maximum energy stored by the phone's battery measured in \n",
    "milli-Ampere-hours (mAh)\n",
    "\n",
    "PC = resolution of the primary camera measued in megapixels (MP)\n",
    "\n",
    "FC = resolution of the front camera measued in megapixels (MP)\n",
    "\n",
    "RAM = random access memory available in the phone measured in gigabytes (GB)\n",
    "\n",
    "Depth = depth of the mobile phone measured in centimetres (cm)\n",
    "\n",
    "Weight = weight of the mobile phone measured in grams (g)\n",
    "\n",
    "Price = selling price of the mobile phone in rupees\n"
   ]
  },
  {
   "cell_type": "code",
   "execution_count": null,
   "metadata": {
    "id": "wEXybtFON854"
   },
   "outputs": [],
   "source": []
  },
  {
   "cell_type": "markdown",
   "metadata": {
    "id": "YCLhIkwFO4Tj"
   },
   "source": [
    "## Task 1 - Load and study the data"
   ]
  },
  {
   "cell_type": "markdown",
   "metadata": {
    "id": "CBMdPgPUO89Y"
   },
   "source": [
    "Import the libraries that will be used in this notebook"
   ]
  },
  {
   "cell_type": "code",
   "execution_count": 204,
   "metadata": {
    "id": "z9ZS2Tw2N857"
   },
   "outputs": [],
   "source": [
    "# Load \"numpy\" and \"pandas\" for manipulating numbers and data frames\n",
    "# Load \"matplotlib.pyplot\" and \"seaborn\" for data visualisation\n",
    "\n",
    "import numpy as np\n",
    "import pandas as pd\n",
    "import matplotlib.pyplot as plt\n",
    "import seaborn as sns"
   ]
  },
  {
   "cell_type": "markdown",
   "metadata": {
    "id": "7rdvm8PDPCgM"
   },
   "source": [
    "Load the csv file as pandas dataframe. "
   ]
  },
  {
   "cell_type": "code",
   "execution_count": 207,
   "metadata": {
    "id": "7p5Rg_AkN858"
   },
   "outputs": [],
   "source": [
    "# Read in the \"Dataset\" file as a Pandas Data Frame\n",
    "data=pd.read_csv(\"C:/Users/Rahul reddy/Desktop/Data analysis/Telecom Dataset.csv\")\n"
   ]
  },
  {
   "cell_type": "code",
   "execution_count": 5,
   "metadata": {
    "id": "WdfT3N-iN859"
   },
   "outputs": [
    {
     "data": {
      "text/html": [
       "<div>\n",
       "<style scoped>\n",
       "    .dataframe tbody tr th:only-of-type {\n",
       "        vertical-align: middle;\n",
       "    }\n",
       "\n",
       "    .dataframe tbody tr th {\n",
       "        vertical-align: top;\n",
       "    }\n",
       "\n",
       "    .dataframe thead th {\n",
       "        text-align: right;\n",
       "    }\n",
       "</style>\n",
       "<table border=\"1\" class=\"dataframe\">\n",
       "  <thead>\n",
       "    <tr style=\"text-align: right;\">\n",
       "      <th></th>\n",
       "      <th>PID</th>\n",
       "      <th>Blue</th>\n",
       "      <th>Wi_Fi</th>\n",
       "      <th>Tch_Scr</th>\n",
       "      <th>Ext_Mem</th>\n",
       "      <th>Px_h</th>\n",
       "      <th>Px_w</th>\n",
       "      <th>Scr_h</th>\n",
       "      <th>Scr_w</th>\n",
       "      <th>PC</th>\n",
       "      <th>FC</th>\n",
       "      <th>Int_Mem</th>\n",
       "      <th>Bty_Pwr</th>\n",
       "      <th>RAM</th>\n",
       "      <th>Depth</th>\n",
       "      <th>Weight</th>\n",
       "      <th>Price</th>\n",
       "    </tr>\n",
       "  </thead>\n",
       "  <tbody>\n",
       "    <tr>\n",
       "      <th>0</th>\n",
       "      <td>AAB346A</td>\n",
       "      <td>yes</td>\n",
       "      <td>yes</td>\n",
       "      <td>no</td>\n",
       "      <td>no</td>\n",
       "      <td>780</td>\n",
       "      <td>460</td>\n",
       "      <td>3</td>\n",
       "      <td>1</td>\n",
       "      <td>2</td>\n",
       "      <td>2</td>\n",
       "      <td>8</td>\n",
       "      <td>2800</td>\n",
       "      <td>2</td>\n",
       "      <td>7</td>\n",
       "      <td>320</td>\n",
       "      <td>3297</td>\n",
       "    </tr>\n",
       "    <tr>\n",
       "      <th>1</th>\n",
       "      <td>AAC347I</td>\n",
       "      <td>yes</td>\n",
       "      <td>yes</td>\n",
       "      <td>no</td>\n",
       "      <td>no</td>\n",
       "      <td>780</td>\n",
       "      <td>560</td>\n",
       "      <td>2</td>\n",
       "      <td>1</td>\n",
       "      <td>4</td>\n",
       "      <td>2</td>\n",
       "      <td>8</td>\n",
       "      <td>3000</td>\n",
       "      <td>2</td>\n",
       "      <td>7</td>\n",
       "      <td>280</td>\n",
       "      <td>4500</td>\n",
       "    </tr>\n",
       "    <tr>\n",
       "      <th>2</th>\n",
       "      <td>BAB657J</td>\n",
       "      <td>no</td>\n",
       "      <td>yes</td>\n",
       "      <td>no</td>\n",
       "      <td>no</td>\n",
       "      <td>840</td>\n",
       "      <td>720</td>\n",
       "      <td>2</td>\n",
       "      <td>1</td>\n",
       "      <td>4</td>\n",
       "      <td>2</td>\n",
       "      <td>8</td>\n",
       "      <td>3300</td>\n",
       "      <td>2</td>\n",
       "      <td>7</td>\n",
       "      <td>400</td>\n",
       "      <td>4898</td>\n",
       "    </tr>\n",
       "    <tr>\n",
       "      <th>3</th>\n",
       "      <td>BBD456K</td>\n",
       "      <td>no</td>\n",
       "      <td>yes</td>\n",
       "      <td>yes</td>\n",
       "      <td>no</td>\n",
       "      <td>1280</td>\n",
       "      <td>1120</td>\n",
       "      <td>5</td>\n",
       "      <td>3</td>\n",
       "      <td>6</td>\n",
       "      <td>2</td>\n",
       "      <td>32</td>\n",
       "      <td>3000</td>\n",
       "      <td>2</td>\n",
       "      <td>3</td>\n",
       "      <td>300</td>\n",
       "      <td>6900</td>\n",
       "    </tr>\n",
       "    <tr>\n",
       "      <th>4</th>\n",
       "      <td>CCP761U</td>\n",
       "      <td>no</td>\n",
       "      <td>yes</td>\n",
       "      <td>yes</td>\n",
       "      <td>no</td>\n",
       "      <td>1280</td>\n",
       "      <td>1080</td>\n",
       "      <td>4</td>\n",
       "      <td>3</td>\n",
       "      <td>6</td>\n",
       "      <td>2</td>\n",
       "      <td>16</td>\n",
       "      <td>3000</td>\n",
       "      <td>2</td>\n",
       "      <td>3</td>\n",
       "      <td>210</td>\n",
       "      <td>5600</td>\n",
       "    </tr>\n",
       "  </tbody>\n",
       "</table>\n",
       "</div>"
      ],
      "text/plain": [
       "       PID Blue Wi_Fi Tch_Scr Ext_Mem  Px_h  Px_w  Scr_h  Scr_w  PC  FC  \\\n",
       "0  AAB346A  yes   yes      no      no   780   460      3      1   2   2   \n",
       "1  AAC347I  yes   yes      no      no   780   560      2      1   4   2   \n",
       "2  BAB657J   no   yes      no      no   840   720      2      1   4   2   \n",
       "3  BBD456K   no   yes     yes      no  1280  1120      5      3   6   2   \n",
       "4  CCP761U   no   yes     yes      no  1280  1080      4      3   6   2   \n",
       "\n",
       "   Int_Mem  Bty_Pwr  RAM  Depth  Weight  Price  \n",
       "0        8     2800    2      7     320   3297  \n",
       "1        8     3000    2      7     280   4500  \n",
       "2        8     3300    2      7     400   4898  \n",
       "3       32     3000    2      3     300   6900  \n",
       "4       16     3000    2      3     210   5600  "
      ]
     },
     "execution_count": 5,
     "metadata": {},
     "output_type": "execute_result"
    }
   ],
   "source": [
    "# Take a brief look at the data\n",
    "data.head()"
   ]
  },
  {
   "cell_type": "code",
   "execution_count": 7,
   "metadata": {
    "id": "0jdoVTnIN85_"
   },
   "outputs": [
    {
     "data": {
      "text/plain": [
       "(50, 17)"
      ]
     },
     "execution_count": 7,
     "metadata": {},
     "output_type": "execute_result"
    }
   ],
   "source": [
    "# Get the dimensions of the dataframe\n",
    "\n",
    "data.shape"
   ]
  },
  {
   "cell_type": "code",
   "execution_count": 13,
   "metadata": {
    "id": "y28qZAzdN86B"
   },
   "outputs": [
    {
     "data": {
      "text/plain": [
       "RangeIndex(start=0, stop=50, step=1)"
      ]
     },
     "execution_count": 13,
     "metadata": {},
     "output_type": "execute_result"
    }
   ],
   "source": [
    "# Get the row names of the dataframe\n",
    "\n",
    "data.index"
   ]
  },
  {
   "cell_type": "code",
   "execution_count": 11,
   "metadata": {
    "id": "u3wUbIm7N86C"
   },
   "outputs": [
    {
     "data": {
      "text/plain": [
       "Index(['PID', 'Blue', 'Wi_Fi', 'Tch_Scr', 'Ext_Mem', 'Px_h', 'Px_w', 'Scr_h',\n",
       "       'Scr_w', 'PC', 'FC', 'Int_Mem', 'Bty_Pwr', 'RAM', 'Depth', 'Weight',\n",
       "       'Price'],\n",
       "      dtype='object')"
      ]
     },
     "execution_count": 11,
     "metadata": {},
     "output_type": "execute_result"
    }
   ],
   "source": [
    "# Get the column names of the dataframe\n",
    "\n",
    "data.columns"
   ]
  },
  {
   "cell_type": "code",
   "execution_count": 15,
   "metadata": {
    "id": "zoJdOWbKN86D"
   },
   "outputs": [
    {
     "name": "stdout",
     "output_type": "stream",
     "text": [
      "<class 'pandas.core.frame.DataFrame'>\n",
      "RangeIndex: 50 entries, 0 to 49\n",
      "Data columns (total 17 columns):\n",
      " #   Column   Non-Null Count  Dtype \n",
      "---  ------   --------------  ----- \n",
      " 0   PID      50 non-null     object\n",
      " 1   Blue     50 non-null     object\n",
      " 2   Wi_Fi    50 non-null     object\n",
      " 3   Tch_Scr  50 non-null     object\n",
      " 4   Ext_Mem  50 non-null     object\n",
      " 5   Px_h     50 non-null     int64 \n",
      " 6   Px_w     50 non-null     int64 \n",
      " 7   Scr_h    50 non-null     int64 \n",
      " 8   Scr_w    50 non-null     int64 \n",
      " 9   PC       50 non-null     int64 \n",
      " 10  FC       50 non-null     int64 \n",
      " 11  Int_Mem  50 non-null     int64 \n",
      " 12  Bty_Pwr  50 non-null     int64 \n",
      " 13  RAM      50 non-null     int64 \n",
      " 14  Depth    50 non-null     int64 \n",
      " 15  Weight   50 non-null     int64 \n",
      " 16  Price    50 non-null     int64 \n",
      "dtypes: int64(12), object(5)\n",
      "memory usage: 6.8+ KB\n"
     ]
    }
   ],
   "source": [
    "# Look at basic information about the dataframe\n",
    "\n",
    "data.info()"
   ]
  },
  {
   "cell_type": "markdown",
   "metadata": {
    "id": "Yp1sfFKKQQLR"
   },
   "source": [
    "Observations:\n",
    "\n",
    "There are 50 phones in the data set.\n",
    "\n",
    "There are 17 features in the data set including the \"PID\" feature which is used as the row index labels.\n",
    "\n",
    "There are no missing values in the data set."
   ]
  },
  {
   "cell_type": "code",
   "execution_count": 7,
   "metadata": {
    "id": "F7O4y4kyN86F"
   },
   "outputs": [],
   "source": []
  },
  {
   "cell_type": "markdown",
   "metadata": {
    "id": "K6wSkK61E57v"
   },
   "source": [
    "<center>Let's try some logical operators to filter the data.<center>"
   ]
  },
  {
   "cell_type": "markdown",
   "metadata": {
    "id": "Fjx3ajuFFN5H"
   },
   "source": [
    "![](https://th.bing.com/th/id/R.0592084daa6518e4fae97f47217ec69e?rik=vNqmiaTVSSo54w&riu=http%3a%2f%2f2.bp.blogspot.com%2f-ujABms6N-Cg%2fTyYwShdTjnI%2fAAAAAAAAAAs%2fktPbHdifidc%2fs1600%2fLogical%2bOperators.PNG&ehk=ww1gl1HB2PcZwPQNHWRUvcQ631Q3mzyHSxL9G4zUKT4%3d&risl=&pid=ImgRaw&r=0,width=700,height=400)"
   ]
  },
  {
   "cell_type": "markdown",
   "metadata": {
    "id": "zBarC8WVQZG7"
   },
   "source": [
    "## Task 2 - Obtain the logical conditions for the features \"Blue\", \"Wi_Fi\", \"Tch_Scr\" and \"Ext_Mem\""
   ]
  },
  {
   "cell_type": "code",
   "execution_count": 21,
   "metadata": {
    "id": "RAV76P19N86G"
   },
   "outputs": [
    {
     "name": "stdout",
     "output_type": "stream",
     "text": [
      "['PID', 'Blue', 'Wi_Fi', 'Tch_Scr', 'Ext_Mem', 'Px_h', 'Px_w', 'Scr_h', 'Scr_w', 'PC', 'FC', 'Int_Mem', 'Bty_Pwr', 'RAM', 'Depth', 'Weight', 'Price']\n"
     ]
    }
   ],
   "source": [
    "# Get the feature names of the dataframe\n",
    "print(data.columns.tolist())"
   ]
  },
  {
   "cell_type": "code",
   "execution_count": 25,
   "metadata": {
    "id": "4qnHqu_vN86H"
   },
   "outputs": [],
   "source": [
    "# Let's tackle these features: \"Blue\", \"Wi_Fi\", \"Tch_Scr\", \"Ext_Mem\"\n",
    "features=[\"Blue\",\"Wi_Fi\",\"Tch_Scr\",\"Ext_Mem\"]"
   ]
  },
  {
   "cell_type": "code",
   "execution_count": 191,
   "metadata": {
    "id": "8N-jff5hN86I"
   },
   "outputs": [
    {
     "name": "stdout",
     "output_type": "stream",
     "text": [
      "0    False\n",
      "1    False\n",
      "2    False\n",
      "3    False\n",
      "4    False\n",
      "dtype: bool\n"
     ]
    }
   ],
   "source": [
    "# The children want phones that have the following: Bluetooth, WiFi, touch screen and external memory support\n",
    "# Create a logical condition for this situation and store the logical values as \"con1\"\n",
    "con1=(data[\"Blue\"]==\"yes\") & (data[\"Wi_Fi\"] == \"yes\") & (data[\"Tch_Scr\"] == \"yes\") & (data[\"Ext_Mem\"] == \"yes\")\n",
    "print(con1.head())"
   ]
  },
  {
   "cell_type": "markdown",
   "metadata": {
    "id": "KilesitnQjMF"
   },
   "source": [
    "Observations:\n",
    "\n",
    "The features \"Blue\", \"Wi_Fi\", \"Tch_Scr\" and \"Ext_Mem\" are binary in nature.\n",
    "\n",
    "The children want all these features, so the logical condition \"con1\" has been obtained accordingly."
   ]
  },
  {
   "cell_type": "markdown",
   "metadata": {
    "id": "n8qZScOZQsj3"
   },
   "source": [
    "## Task 3 - Obtain the logical conditions for the features \"Px_h\" and \"Px_w\""
   ]
  },
  {
   "cell_type": "code",
   "execution_count": 35,
   "metadata": {
    "id": "UgpsX9ZYN86M"
   },
   "outputs": [],
   "source": [
    "# Get the feature names of the dataframe\n",
    "features=[\"Px_h\",\"Px_w\"]"
   ]
  },
  {
   "cell_type": "code",
   "execution_count": 37,
   "metadata": {
    "id": "HvY0q-JeN86N"
   },
   "outputs": [],
   "source": [
    "# Let's tackle these features: \"Px_h\", \"Px_w\""
   ]
  },
  {
   "cell_type": "code",
   "execution_count": 43,
   "metadata": {
    "id": "9g8VvPLiN86O"
   },
   "outputs": [
    {
     "data": {
      "text/html": [
       "<div>\n",
       "<style scoped>\n",
       "    .dataframe tbody tr th:only-of-type {\n",
       "        vertical-align: middle;\n",
       "    }\n",
       "\n",
       "    .dataframe tbody tr th {\n",
       "        vertical-align: top;\n",
       "    }\n",
       "\n",
       "    .dataframe thead th {\n",
       "        text-align: right;\n",
       "    }\n",
       "</style>\n",
       "<table border=\"1\" class=\"dataframe\">\n",
       "  <thead>\n",
       "    <tr style=\"text-align: right;\">\n",
       "      <th></th>\n",
       "      <th>PID</th>\n",
       "      <th>Blue</th>\n",
       "      <th>Wi_Fi</th>\n",
       "      <th>Tch_Scr</th>\n",
       "      <th>Ext_Mem</th>\n",
       "      <th>Px_h</th>\n",
       "      <th>Px_w</th>\n",
       "      <th>Scr_h</th>\n",
       "      <th>Scr_w</th>\n",
       "      <th>PC</th>\n",
       "      <th>FC</th>\n",
       "      <th>Int_Mem</th>\n",
       "      <th>Bty_Pwr</th>\n",
       "      <th>RAM</th>\n",
       "      <th>Depth</th>\n",
       "      <th>Weight</th>\n",
       "      <th>Price</th>\n",
       "      <th>Px</th>\n",
       "    </tr>\n",
       "  </thead>\n",
       "  <tbody>\n",
       "    <tr>\n",
       "      <th>0</th>\n",
       "      <td>AAB346A</td>\n",
       "      <td>yes</td>\n",
       "      <td>yes</td>\n",
       "      <td>no</td>\n",
       "      <td>no</td>\n",
       "      <td>780</td>\n",
       "      <td>460</td>\n",
       "      <td>3</td>\n",
       "      <td>1</td>\n",
       "      <td>2</td>\n",
       "      <td>2</td>\n",
       "      <td>8</td>\n",
       "      <td>2800</td>\n",
       "      <td>2</td>\n",
       "      <td>7</td>\n",
       "      <td>320</td>\n",
       "      <td>3297</td>\n",
       "      <td>358800</td>\n",
       "    </tr>\n",
       "    <tr>\n",
       "      <th>1</th>\n",
       "      <td>AAC347I</td>\n",
       "      <td>yes</td>\n",
       "      <td>yes</td>\n",
       "      <td>no</td>\n",
       "      <td>no</td>\n",
       "      <td>780</td>\n",
       "      <td>560</td>\n",
       "      <td>2</td>\n",
       "      <td>1</td>\n",
       "      <td>4</td>\n",
       "      <td>2</td>\n",
       "      <td>8</td>\n",
       "      <td>3000</td>\n",
       "      <td>2</td>\n",
       "      <td>7</td>\n",
       "      <td>280</td>\n",
       "      <td>4500</td>\n",
       "      <td>436800</td>\n",
       "    </tr>\n",
       "    <tr>\n",
       "      <th>2</th>\n",
       "      <td>BAB657J</td>\n",
       "      <td>no</td>\n",
       "      <td>yes</td>\n",
       "      <td>no</td>\n",
       "      <td>no</td>\n",
       "      <td>840</td>\n",
       "      <td>720</td>\n",
       "      <td>2</td>\n",
       "      <td>1</td>\n",
       "      <td>4</td>\n",
       "      <td>2</td>\n",
       "      <td>8</td>\n",
       "      <td>3300</td>\n",
       "      <td>2</td>\n",
       "      <td>7</td>\n",
       "      <td>400</td>\n",
       "      <td>4898</td>\n",
       "      <td>604800</td>\n",
       "    </tr>\n",
       "    <tr>\n",
       "      <th>3</th>\n",
       "      <td>BBD456K</td>\n",
       "      <td>no</td>\n",
       "      <td>yes</td>\n",
       "      <td>yes</td>\n",
       "      <td>no</td>\n",
       "      <td>1280</td>\n",
       "      <td>1120</td>\n",
       "      <td>5</td>\n",
       "      <td>3</td>\n",
       "      <td>6</td>\n",
       "      <td>2</td>\n",
       "      <td>32</td>\n",
       "      <td>3000</td>\n",
       "      <td>2</td>\n",
       "      <td>3</td>\n",
       "      <td>300</td>\n",
       "      <td>6900</td>\n",
       "      <td>1433600</td>\n",
       "    </tr>\n",
       "    <tr>\n",
       "      <th>4</th>\n",
       "      <td>CCP761U</td>\n",
       "      <td>no</td>\n",
       "      <td>yes</td>\n",
       "      <td>yes</td>\n",
       "      <td>no</td>\n",
       "      <td>1280</td>\n",
       "      <td>1080</td>\n",
       "      <td>4</td>\n",
       "      <td>3</td>\n",
       "      <td>6</td>\n",
       "      <td>2</td>\n",
       "      <td>16</td>\n",
       "      <td>3000</td>\n",
       "      <td>2</td>\n",
       "      <td>3</td>\n",
       "      <td>210</td>\n",
       "      <td>5600</td>\n",
       "      <td>1382400</td>\n",
       "    </tr>\n",
       "  </tbody>\n",
       "</table>\n",
       "</div>"
      ],
      "text/plain": [
       "       PID Blue Wi_Fi Tch_Scr Ext_Mem  Px_h  Px_w  Scr_h  Scr_w  PC  FC  \\\n",
       "0  AAB346A  yes   yes      no      no   780   460      3      1   2   2   \n",
       "1  AAC347I  yes   yes      no      no   780   560      2      1   4   2   \n",
       "2  BAB657J   no   yes      no      no   840   720      2      1   4   2   \n",
       "3  BBD456K   no   yes     yes      no  1280  1120      5      3   6   2   \n",
       "4  CCP761U   no   yes     yes      no  1280  1080      4      3   6   2   \n",
       "\n",
       "   Int_Mem  Bty_Pwr  RAM  Depth  Weight  Price       Px  \n",
       "0        8     2800    2      7     320   3297   358800  \n",
       "1        8     3000    2      7     280   4500   436800  \n",
       "2        8     3300    2      7     400   4898   604800  \n",
       "3       32     3000    2      3     300   6900  1433600  \n",
       "4       16     3000    2      3     210   5600  1382400  "
      ]
     },
     "execution_count": 43,
     "metadata": {},
     "output_type": "execute_result"
    }
   ],
   "source": [
    "# Create a new feature called \"Px\" which stores the total resolution of the screen\n",
    "data[\"Px\"]=data[\"Px_h\"]*data[\"Px_w\"]\n",
    "data.head()"
   ]
  },
  {
   "cell_type": "code",
   "execution_count": 194,
   "metadata": {
    "id": "nbYsIHpjN86P"
   },
   "outputs": [
    {
     "data": {
      "image/png": "[encoded data removed]",
      "text/plain": [
       "<Figure size 900x400 with 1 Axes>"
      ]
     },
     "metadata": {},
     "output_type": "display_data"
    }
   ],
   "source": [
    "# Create a histogram of the \"Px\" feature and also show the mean and the median\n",
    "plt.figure(figsize=(9,4))\n",
    "\n",
    "sns.histplot(data=data,x='Px',color=\"blue\",edgecolor='linen',alpha=0.7,bins=10,kde=True)\n",
    "\n",
    "plt.title('histogram for Px')\n",
    "plt.xlabel('PX')\n",
    "plt.ylabel('Frequency')\n",
    "\n",
    "ymin, ymax = plt.gca().get_ylim()\n",
    "\n",
    "plt.vlines(data[\"Px\"].mean(),ymin=ymin,ymax=ymax,color=\"red\",label=\"Mean\")\n",
    "plt.vlines(data[\"Px\"].median(),ymin=ymin,ymax=ymax,color=\"black\",label=\"Median\")\n",
    "plt.legend()\n",
    "plt.show()\n",
    "\n"
   ]
  },
  {
   "cell_type": "code",
   "execution_count": 73,
   "metadata": {
    "id": "SxaYgagyN86Q"
   },
   "outputs": [],
   "source": [
    "# The children want phones that have good screen resolutions\n",
    "# Consider the phones that have screen resolutions greater than or equal to the median value in the data set\n",
    "# Create a logical condition for this situation and store the logical values as \"con2\"\n",
    "con2=data[\"Px\"]>=data[\"Px\"].median()"
   ]
  },
  {
   "cell_type": "markdown",
   "metadata": {
    "id": "M-DC9VY2RBZQ"
   },
   "source": [
    "Observations:\n",
    "\n",
    "The features \"Px_h\" and \"Px_w\" are respectively the number of pixels in the phone screen in the vertical and horizontal axes.\n",
    "\n",
    "We created a new feature called \"Px\" which is the product of the features \"Px_h\" and \"Px_w\".\n",
    "\n",
    "The median has been selected as a threshold in this case.\n",
    "\n",
    "In case it is too strict, we can choose the mean as a threshold."
   ]
  },
  {
   "cell_type": "markdown",
   "metadata": {
    "id": "ih3ev8-0RJg5"
   },
   "source": [
    "# Task 4 - Obtain the logical conditions for the features \"Scr_h\" and \"Scr_w\""
   ]
  },
  {
   "cell_type": "code",
   "execution_count": 77,
   "metadata": {
    "id": "EsEcEKKTN86T"
   },
   "outputs": [],
   "source": [
    "# Let's tackle these features: \"Scr_h\", \"Scr_w\"\n",
    "features=[\"Scr_h\",\"Scr_w\"]"
   ]
  },
  {
   "cell_type": "code",
   "execution_count": 79,
   "metadata": {
    "id": "qTOcx3FCN86U"
   },
   "outputs": [
    {
     "data": {
      "text/html": [
       "<div>\n",
       "<style scoped>\n",
       "    .dataframe tbody tr th:only-of-type {\n",
       "        vertical-align: middle;\n",
       "    }\n",
       "\n",
       "    .dataframe tbody tr th {\n",
       "        vertical-align: top;\n",
       "    }\n",
       "\n",
       "    .dataframe thead th {\n",
       "        text-align: right;\n",
       "    }\n",
       "</style>\n",
       "<table border=\"1\" class=\"dataframe\">\n",
       "  <thead>\n",
       "    <tr style=\"text-align: right;\">\n",
       "      <th></th>\n",
       "      <th>PID</th>\n",
       "      <th>Blue</th>\n",
       "      <th>Wi_Fi</th>\n",
       "      <th>Tch_Scr</th>\n",
       "      <th>Ext_Mem</th>\n",
       "      <th>Px_h</th>\n",
       "      <th>Px_w</th>\n",
       "      <th>Scr_h</th>\n",
       "      <th>Scr_w</th>\n",
       "      <th>PC</th>\n",
       "      <th>FC</th>\n",
       "      <th>Int_Mem</th>\n",
       "      <th>Bty_Pwr</th>\n",
       "      <th>RAM</th>\n",
       "      <th>Depth</th>\n",
       "      <th>Weight</th>\n",
       "      <th>Price</th>\n",
       "      <th>Px</th>\n",
       "      <th>Scr_d</th>\n",
       "    </tr>\n",
       "  </thead>\n",
       "  <tbody>\n",
       "    <tr>\n",
       "      <th>0</th>\n",
       "      <td>AAB346A</td>\n",
       "      <td>yes</td>\n",
       "      <td>yes</td>\n",
       "      <td>no</td>\n",
       "      <td>no</td>\n",
       "      <td>780</td>\n",
       "      <td>460</td>\n",
       "      <td>3</td>\n",
       "      <td>1</td>\n",
       "      <td>2</td>\n",
       "      <td>2</td>\n",
       "      <td>8</td>\n",
       "      <td>2800</td>\n",
       "      <td>2</td>\n",
       "      <td>7</td>\n",
       "      <td>320</td>\n",
       "      <td>3297</td>\n",
       "      <td>358800</td>\n",
       "      <td>3.162278</td>\n",
       "    </tr>\n",
       "    <tr>\n",
       "      <th>1</th>\n",
       "      <td>AAC347I</td>\n",
       "      <td>yes</td>\n",
       "      <td>yes</td>\n",
       "      <td>no</td>\n",
       "      <td>no</td>\n",
       "      <td>780</td>\n",
       "      <td>560</td>\n",
       "      <td>2</td>\n",
       "      <td>1</td>\n",
       "      <td>4</td>\n",
       "      <td>2</td>\n",
       "      <td>8</td>\n",
       "      <td>3000</td>\n",
       "      <td>2</td>\n",
       "      <td>7</td>\n",
       "      <td>280</td>\n",
       "      <td>4500</td>\n",
       "      <td>436800</td>\n",
       "      <td>2.236068</td>\n",
       "    </tr>\n",
       "    <tr>\n",
       "      <th>2</th>\n",
       "      <td>BAB657J</td>\n",
       "      <td>no</td>\n",
       "      <td>yes</td>\n",
       "      <td>no</td>\n",
       "      <td>no</td>\n",
       "      <td>840</td>\n",
       "      <td>720</td>\n",
       "      <td>2</td>\n",
       "      <td>1</td>\n",
       "      <td>4</td>\n",
       "      <td>2</td>\n",
       "      <td>8</td>\n",
       "      <td>3300</td>\n",
       "      <td>2</td>\n",
       "      <td>7</td>\n",
       "      <td>400</td>\n",
       "      <td>4898</td>\n",
       "      <td>604800</td>\n",
       "      <td>2.236068</td>\n",
       "    </tr>\n",
       "    <tr>\n",
       "      <th>3</th>\n",
       "      <td>BBD456K</td>\n",
       "      <td>no</td>\n",
       "      <td>yes</td>\n",
       "      <td>yes</td>\n",
       "      <td>no</td>\n",
       "      <td>1280</td>\n",
       "      <td>1120</td>\n",
       "      <td>5</td>\n",
       "      <td>3</td>\n",
       "      <td>6</td>\n",
       "      <td>2</td>\n",
       "      <td>32</td>\n",
       "      <td>3000</td>\n",
       "      <td>2</td>\n",
       "      <td>3</td>\n",
       "      <td>300</td>\n",
       "      <td>6900</td>\n",
       "      <td>1433600</td>\n",
       "      <td>5.830952</td>\n",
       "    </tr>\n",
       "    <tr>\n",
       "      <th>4</th>\n",
       "      <td>CCP761U</td>\n",
       "      <td>no</td>\n",
       "      <td>yes</td>\n",
       "      <td>yes</td>\n",
       "      <td>no</td>\n",
       "      <td>1280</td>\n",
       "      <td>1080</td>\n",
       "      <td>4</td>\n",
       "      <td>3</td>\n",
       "      <td>6</td>\n",
       "      <td>2</td>\n",
       "      <td>16</td>\n",
       "      <td>3000</td>\n",
       "      <td>2</td>\n",
       "      <td>3</td>\n",
       "      <td>210</td>\n",
       "      <td>5600</td>\n",
       "      <td>1382400</td>\n",
       "      <td>5.000000</td>\n",
       "    </tr>\n",
       "  </tbody>\n",
       "</table>\n",
       "</div>"
      ],
      "text/plain": [
       "       PID Blue Wi_Fi Tch_Scr Ext_Mem  Px_h  Px_w  Scr_h  Scr_w  PC  FC  \\\n",
       "0  AAB346A  yes   yes      no      no   780   460      3      1   2   2   \n",
       "1  AAC347I  yes   yes      no      no   780   560      2      1   4   2   \n",
       "2  BAB657J   no   yes      no      no   840   720      2      1   4   2   \n",
       "3  BBD456K   no   yes     yes      no  1280  1120      5      3   6   2   \n",
       "4  CCP761U   no   yes     yes      no  1280  1080      4      3   6   2   \n",
       "\n",
       "   Int_Mem  Bty_Pwr  RAM  Depth  Weight  Price       Px     Scr_d  \n",
       "0        8     2800    2      7     320   3297   358800  3.162278  \n",
       "1        8     3000    2      7     280   4500   436800  2.236068  \n",
       "2        8     3300    2      7     400   4898   604800  2.236068  \n",
       "3       32     3000    2      3     300   6900  1433600  5.830952  \n",
       "4       16     3000    2      3     210   5600  1382400  5.000000  "
      ]
     },
     "execution_count": 79,
     "metadata": {},
     "output_type": "execute_result"
    }
   ],
   "source": [
    "# Create a new feature called \"Scr_d\" which stores the length of the diagonal of the screen of the phone\n",
    "data[\"Scr_d\"]=np.sqrt(data[\"Scr_h\"]**2 + data[\"Scr_w\"]**2)\n",
    "data.head()\n"
   ]
  },
  {
   "cell_type": "code",
   "execution_count": 196,
   "metadata": {
    "id": "83gzdEN7N86U"
   },
   "outputs": [
    {
     "data": {
      "image/png": "[encoded data removed]",
      "text/plain": [
       "<Figure size 900x400 with 1 Axes>"
      ]
     },
     "metadata": {},
     "output_type": "display_data"
    }
   ],
   "source": [
    "# Create a histogram of the \"Scr_d\" feature and also show the quartiles\n",
    "plt.figure(figsize=(9,4))\n",
    "\n",
    "sns.histplot(data=data,x='Scr_d',color=\"blue\",edgecolor='linen',alpha=0.7,bins=10,kde=True)\n",
    "\n",
    "q1=data[\"Scr_d\"].quantile(0.25)\n",
    "q2=data[\"Scr_d\"].quantile(0.50)\n",
    "q3=data[\"Scr_d\"].quantile(0.75)\n",
    "\n",
    "plt.title('histogram for Px')\n",
    "plt.xlabel('PX')\n",
    "plt.ylabel('Frequency')\n",
    "plt.vlines(q1,ymin=0,ymax=20,color=\"red\",label=\"Q1\")\n",
    "plt.vlines(q2,ymin=0,ymax=20,color=\"black\",label=\"Q2\")\n",
    "plt.vlines(q3,ymin=0,ymax=20,color=\"orange\",label=\"Q3\")\n",
    "plt.legend()\n",
    "plt.show()\n"
   ]
  },
  {
   "cell_type": "code",
   "execution_count": 91,
   "metadata": {
    "id": "aEvL_TPSN86V"
   },
   "outputs": [
    {
     "name": "stdout",
     "output_type": "stream",
     "text": [
      "45     True\n",
      "46    False\n",
      "47     True\n",
      "48     True\n",
      "49     True\n",
      "Name: Scr_d, dtype: bool\n"
     ]
    }
   ],
   "source": [
    "# The children want phones that have very good screen sizes\n",
    "# Consider the phones that have screen sizes greater than or equal to the upper quartile value in the data set\n",
    "# Create a logical condition for this situation and store the logical values as \"con3\"\n",
    "q3=data[\"Scr_d\"].quantile(0.75)\n",
    "con3=data[\"Scr_d\"]>=q3\n",
    "print(con3.tail())"
   ]
  },
  {
   "cell_type": "markdown",
   "metadata": {
    "id": "BKDitmp9RZDe"
   },
   "source": [
    "Observations:\n",
    "\n",
    "The features \"Scr_h\" and \"Scr_w\" are respectively the height and the width of the phone screen.\n",
    "\n",
    "We created a new feature called \"Scr_d\" which is essentially the length of the screen diagonal.\n",
    "\n",
    "The upper quartile has been selected as a threshold in this case as the children were very particular on this point.\n",
    "\n",
    "In case it is too strict, we can choose the mean or the median as a threshold."
   ]
  },
  {
   "cell_type": "markdown",
   "metadata": {
    "id": "21dZEsZRRikD"
   },
   "source": [
    "# Task 5 - Obtain the logical conditions for the features \"PC\" and \"FC\""
   ]
  },
  {
   "cell_type": "code",
   "execution_count": 95,
   "metadata": {
    "id": "lCQR8DBRN86Y"
   },
   "outputs": [],
   "source": [
    "# Let's tackle these features: \"PC\", \"FC\"\n",
    "features=[\"PC\",\"FC\"]"
   ]
  },
  {
   "cell_type": "code",
   "execution_count": 127,
   "metadata": {
    "id": "KtH-XWmqN86Z"
   },
   "outputs": [
    {
     "data": {
      "image/png": "[encoded data removed]",
      "text/plain": [
       "<Figure size 900x400 with 1 Axes>"
      ]
     },
     "metadata": {},
     "output_type": "display_data"
    }
   ],
   "source": [
    "# Create a histogram of the \"PC\" feature and also show the mean and the median\n",
    "plt.figure(figsize=(9,4))\n",
    "\n",
    "sns.histplot(data=data,x='PC',color=\"blue\",edgecolor='linen',alpha=0.7,bins=10,kde=True)\n",
    "\n",
    "plt.title('histogram for PC')\n",
    "plt.xlabel('PC')\n",
    "plt.ylabel('Frequency')\n",
    "plt.vlines(data[\"PC\"].mean(),ymin=0,ymax=25,color=\"red\",label=\"Mean\")\n",
    "plt.vlines(data[\"PC\"].median(),ymin=0,ymax=25,color=\"black\",label=\"Median\")\n",
    "plt.legend()\n",
    "plt.show()\n",
    "\n",
    "\n",
    "\n"
   ]
  },
  {
   "cell_type": "code",
   "execution_count": 133,
   "metadata": {
    "id": "vMp3OWR0N86a"
   },
   "outputs": [
    {
     "data": {
      "image/png": "[encoded data removed]",
      "text/plain": [
       "<Figure size 900x400 with 1 Axes>"
      ]
     },
     "metadata": {},
     "output_type": "display_data"
    }
   ],
   "source": [
    "# Create a histogram of the \"FC\" feature and also show the mean and the median\n",
    "\n",
    "plt.figure(figsize=(9,4))\n",
    "\n",
    "sns.histplot(data=data,x='FC',color=\"blue\",edgecolor='linen',alpha=0.7,bins=10,kde=True)\n",
    "\n",
    "plt.title('histogram for FC')\n",
    "plt.xlabel('FC')\n",
    "plt.ylabel('Frequency')\n",
    "plt.vlines(data[\"FC\"].mean(),ymin=0,ymax=25,color=\"red\",label=\"Mean\")\n",
    "plt.vlines(data[\"FC\"].median(),ymin=0,ymax=25,color=\"black\",label=\"Median\")\n",
    "plt.legend()\n",
    "plt.show()\n",
    "\n",
    "\n"
   ]
  },
  {
   "cell_type": "code",
   "execution_count": 107,
   "metadata": {
    "id": "uwOY8IGoN86a"
   },
   "outputs": [
    {
     "data": {
      "text/plain": [
       "45    True\n",
       "46    True\n",
       "47    True\n",
       "48    True\n",
       "49    True\n",
       "dtype: bool"
      ]
     },
     "execution_count": 107,
     "metadata": {},
     "output_type": "execute_result"
    }
   ],
   "source": [
    "# The children want phones that have good primary and front camera resolutions\n",
    "# Consider the phones that have primary and front camera resolutions greater than or equal to their respective mean values\n",
    "# Create a logical condition for this situation and store the logical values as \"con4\"\n",
    "pc_mean = data[\"PC\"].mean()\n",
    "fc_mean = data[\"FC\"].mean()\n",
    "\n",
    "con4=(data['PC']>=pc_mean) & (data['FC']>=fc_mean)\n",
    "con4.tail()"
   ]
  },
  {
   "cell_type": "markdown",
   "metadata": {
    "id": "jo7yqfJSRvNT"
   },
   "source": [
    "Observations:\n",
    "\n",
    "The features \"PC\" and \"FC\" are respectively the resolutions of the primary camera and the front camera.\n",
    "\n",
    "The respective means have been selected as thresholds in this case.\n",
    "\n",
    "In case it is too strict, we can choose the respective medians as thresholds."
   ]
  },
  {
   "cell_type": "markdown",
   "metadata": {
    "id": "iu0E_MTAR3Pn"
   },
   "source": [
    "# Task 6 - Obtain the logical conditions for the features \"Int_Mem\", \"Bty_Pwr\" and \"RAM\""
   ]
  },
  {
   "cell_type": "code",
   "execution_count": null,
   "metadata": {
    "id": "tnBJk7xFN86d"
   },
   "outputs": [],
   "source": [
    "# Let's tackle these features: \"Int_Mem\", \"Bty_Pwr\", \"RAM\"\n",
    "features=[\"Int_Mem\",\"Bty_Pwr\",\"RAM\"]"
   ]
  },
  {
   "cell_type": "code",
   "execution_count": 135,
   "metadata": {
    "id": "YMBT6fVEN86e"
   },
   "outputs": [
    {
     "data": {
      "image/png": "[encoded data removed]",
      "text/plain": [
       "<Figure size 900x400 with 1 Axes>"
      ]
     },
     "metadata": {},
     "output_type": "display_data"
    }
   ],
   "source": [
    "# Create a histogram of the \"Int_Mem\" feature and also show the mean and the median\n",
    "plt.figure(figsize=(9,4))\n",
    "\n",
    "sns.histplot(data=data,x='Int_Mem',color=\"blue\",edgecolor='linen',alpha=0.7,bins=10,kde=True)\n",
    "\n",
    "plt.title('histogram for Int_Mem')\n",
    "plt.xlabel('Int_Mem')\n",
    "plt.ylabel('Frequency')\n",
    "plt.vlines(data[\"Int_Mem\"].mean(),ymin=0,ymax=35,color=\"red\",label=\"Mean\")\n",
    "plt.vlines(data[\"Int_Mem\"].median(),ymin=0,ymax=35,color=\"black\",label=\"Median\")\n",
    "plt.legend()\n",
    "plt.show()\n",
    "\n",
    "\n"
   ]
  },
  {
   "cell_type": "code",
   "execution_count": 137,
   "metadata": {},
   "outputs": [
    {
     "data": {
      "image/png": "[encoded data removed]",
      "text/plain": [
       "<Figure size 900x400 with 1 Axes>"
      ]
     },
     "metadata": {},
     "output_type": "display_data"
    }
   ],
   "source": [
    "# Create a histogram of the \"Bty_Pwr\" feature and also show the mean and the median\n",
    "plt.figure(figsize=(9,4))\n",
    "\n",
    "sns.histplot(data=data,x='Bty_Pwr',color=\"blue\",edgecolor='linen',alpha=0.7,bins=10,kde=True)\n",
    "\n",
    "plt.title('histogram for Bty_Pwr')\n",
    "plt.xlabel('Bty_Pwr')\n",
    "plt.ylabel('Frequency')\n",
    "plt.vlines(data[\"Bty_Pwr\"].mean(),ymin=0,ymax=15,color=\"red\",label=\"Mean\")\n",
    "plt.vlines(data[\"Bty_Pwr\"].median(),ymin=0,ymax=15,color=\"black\",label=\"Median\")\n",
    "plt.legend()\n",
    "plt.show()\n"
   ]
  },
  {
   "cell_type": "code",
   "execution_count": 165,
   "metadata": {
    "id": "TS83YmlQN86f"
   },
   "outputs": [
    {
     "data": {
      "image/png": "[encoded data removed]",
      "text/plain": [
       "<Figure size 900x400 with 1 Axes>"
      ]
     },
     "metadata": {},
     "output_type": "display_data"
    }
   ],
   "source": [
    "# Create a histogram of the \"RAM\" feature and also show the mean and the median\n",
    "plt.figure(figsize=(9,4))\n",
    "\n",
    "sns.histplot(data=data,x='RAM',color=\"blue\",edgecolor='linen',alpha=0.7,bins=10,kde=True)\n",
    "\n",
    "plt.title('histogram for RAM')\n",
    "plt.xlabel('RAM')\n",
    "plt.ylabel('Frequency')\n",
    "plt.vlines(data[\"RAM\"].mean(),ymin=0,ymax=20,color=\"red\",label=\"Mean\")\n",
    "plt.vlines(data[\"RAM\"].median(),ymin=0,ymax=20,color=\"black\",label=\"Median\")\n",
    "plt.legend()\n",
    "plt.show()\n",
    "\n",
    "\n"
   ]
  },
  {
   "cell_type": "code",
   "execution_count": 153,
   "metadata": {
    "id": "Ty-VGMoDN86g"
   },
   "outputs": [
    {
     "data": {
      "text/plain": [
       "45    False\n",
       "46    False\n",
       "47     True\n",
       "48     True\n",
       "49     True\n",
       "dtype: bool"
      ]
     },
     "execution_count": 153,
     "metadata": {},
     "output_type": "execute_result"
    }
   ],
   "source": [
    "# The children want phones that have good internal memory, battery power and RAM\n",
    "# Consider the phones that have internal memory, battery power and RAM greater than or equal to their respective mean values\n",
    "# Create a logical condition for this situation and store the logical values as \"con5\"\n",
    "int_mean=(data[\"Int_Mem\"].mean())\n",
    "bty_pwr_mean=(data[\"Bty_Pwr\"].mean())\n",
    "ram_mean=(data[\"RAM\"].mean())\n",
    "\n",
    "con5=(data[\"Int_Mem\"]>=int_mean) & (data[\"Bty_Pwr\"]>=bty_pwr_mean) & (data[\"RAM\"]>=ram_mean)"
   ]
  },
  {
   "cell_type": "markdown",
   "metadata": {
    "id": "u5RzvXKoSHaw"
   },
   "source": [
    "Observations\n",
    "\n",
    "The features \"Int_Mem\", \"Bty_Pwr\" and \"RAM\" are respectively the internal memory, battery power and RAM of the phones.\n",
    "\n",
    "The respective means have been selected as thresholds in this case.\n",
    "\n",
    ".In case it is too strict, we can choose the respective medians as thresholds"
   ]
  },
  {
   "cell_type": "markdown",
   "metadata": {
    "id": "VVeYghyESO9y"
   },
   "source": [
    "# Task 7 - Obtain the logical conditions for the features \"Depth\" and \"Weight\""
   ]
  },
  {
   "cell_type": "code",
   "execution_count": 27,
   "metadata": {
    "id": "07nm7-V1N86j"
   },
   "outputs": [],
   "source": [
    "# Let's tackle these features: \"Depth\", \"Weight\"\n",
    "features=[\"Depth\", \"Weight\"]"
   ]
  },
  {
   "cell_type": "code",
   "execution_count": 155,
   "metadata": {
    "id": "e88FFbusN86k"
   },
   "outputs": [
    {
     "data": {
      "image/png": "[encoded data removed]",
      "text/plain": [
       "<Figure size 900x400 with 1 Axes>"
      ]
     },
     "metadata": {},
     "output_type": "display_data"
    }
   ],
   "source": [
    "# Create a histogram of the \"Depth\" feature and also show the mean and the median\n",
    "\n",
    "plt.figure(figsize=(9,4))\n",
    "\n",
    "sns.histplot(data=data,x='Depth',color=\"blue\",edgecolor='linen',alpha=0.7,bins=10,kde=True)\n",
    "\n",
    "plt.title('histogram for Depth')\n",
    "plt.xlabel('Depth')\n",
    "plt.ylabel('Frequency')\n",
    "plt.vlines(data[\"Depth\"].mean(),ymin=0,ymax=35,color=\"red\",label=\"Mean\")\n",
    "plt.vlines(data[\"Depth\"].median(),ymin=0,ymax=35,color=\"black\",label=\"Median\")\n",
    "plt.legend()\n",
    "plt.show()\n",
    "\n"
   ]
  },
  {
   "cell_type": "code",
   "execution_count": 163,
   "metadata": {
    "id": "-lXTqLttN86l"
   },
   "outputs": [
    {
     "data": {
      "image/png": "[encoded data removed]",
      "text/plain": [
       "<Figure size 900x400 with 1 Axes>"
      ]
     },
     "metadata": {},
     "output_type": "display_data"
    }
   ],
   "source": [
    "# Create a histogram of the \"Weight\" feature and also show the mean and the median\n",
    "plt.figure(figsize=(9,4))\n",
    "\n",
    "sns.histplot(data=data,x='Weight',color=\"blue\",edgecolor='linen',alpha=0.7,bins=10,kde=True)\n",
    "\n",
    "plt.title('histogram for Weight')\n",
    "plt.xlabel('Weight')\n",
    "plt.ylabel('Frequency')\n",
    "plt.vlines(data[\"Weight\"].mean(),ymin=0,ymax=15,color=\"red\",label=\"Mean\")\n",
    "plt.vlines(data[\"Weight\"].median(),ymin=0,ymax=15,color=\"black\",label=\"Median\")\n",
    "plt.legend()\n",
    "plt.show()\n",
    "\n",
    "\n",
    "\n"
   ]
  },
  {
   "cell_type": "code",
   "execution_count": 161,
   "metadata": {
    "id": "7ZYJmwzJN86l"
   },
   "outputs": [
    {
     "data": {
      "text/plain": [
       "0    False\n",
       "1    False\n",
       "2    False\n",
       "3    False\n",
       "4    False\n",
       "dtype: bool"
      ]
     },
     "execution_count": 161,
     "metadata": {},
     "output_type": "execute_result"
    }
   ],
   "source": [
    "# The children want phones that are light weight and slim\n",
    "# Consider the phones that have depth and weight less than or equal to the respective median values in the data set\n",
    "# Create a logical condition for this situation and store the logical values as \"con6\"\n",
    "depth_median=data['Depth'].median()\n",
    "weight_median=data['Weight'].median()\n",
    "\n",
    "con6=(data['Depth']<=depth_median) & (data['Weight']<=weight_median) \n",
    "con6.head()\n",
    "\n"
   ]
  },
  {
   "cell_type": "markdown",
   "metadata": {
    "id": "l32BIHsdSbHy"
   },
   "source": [
    "Observations:\n",
    "\n",
    "The features \"Depth\" and \"Weight\" are respectively the depth of the phone and the weight of the phone.\n",
    "\n",
    "The respective medians have been selected as thresholds in this case.\n",
    "\n",
    "In case it is too strict, we can choose the respective means as thresholds."
   ]
  },
  {
   "cell_type": "markdown",
   "metadata": {
    "id": "3UYMHQseSjZp"
   },
   "source": [
    "# Task 8 - Subset the data based on all the logical conditions"
   ]
  },
  {
   "cell_type": "code",
   "execution_count": 167,
   "metadata": {
    "id": "iKFweH2xN86o"
   },
   "outputs": [
    {
     "name": "stdout",
     "output_type": "stream",
     "text": [
      "        PID Blue Wi_Fi Tch_Scr Ext_Mem  Px_h  Px_w  Scr_h  Scr_w  PC  FC  \\\n",
      "30  TVF078Y  yes   yes     yes     yes  2580  2120      8      6  64  32   \n",
      "32  TYS938L  yes   yes     yes     yes  2580  2120      8      6  64  32   \n",
      "42  WZB298K  yes   yes     yes     yes  2580  1980      8      6  64  32   \n",
      "\n",
      "    Int_Mem  Bty_Pwr  RAM  Depth  Weight  Price       Px  Scr_d  \n",
      "30      512     4860    8      3      90  29999  5469600   10.0  \n",
      "32     1024     4860    8      3     120  46777  5469600   10.0  \n",
      "42     1024     5600    8      3     160  39000  5108400   10.0  \n"
     ]
    }
   ],
   "source": [
    "# Subset the dataframe using all the logical conditions that have been stored\n",
    "# Store the subset of the dataframe as a new dataframe called \"df1\"\n",
    "df1=data[con1 & con2 & con3 & con4 & con5 & con6]\n",
    "print(df1.head())\n",
    "\n"
   ]
  },
  {
   "cell_type": "code",
   "execution_count": 169,
   "metadata": {
    "id": "Y0Bp7BKkN86o"
   },
   "outputs": [
    {
     "data": {
      "text/plain": [
       "(3, 19)"
      ]
     },
     "execution_count": 169,
     "metadata": {},
     "output_type": "execute_result"
    }
   ],
   "source": [
    "# Get the dimensions of the dataframe\n",
    "df1.shape\n"
   ]
  },
  {
   "cell_type": "code",
   "execution_count": 171,
   "metadata": {
    "id": "H5tg2OEkN86p"
   },
   "outputs": [
    {
     "data": {
      "text/html": [
       "<div>\n",
       "<style scoped>\n",
       "    .dataframe tbody tr th:only-of-type {\n",
       "        vertical-align: middle;\n",
       "    }\n",
       "\n",
       "    .dataframe tbody tr th {\n",
       "        vertical-align: top;\n",
       "    }\n",
       "\n",
       "    .dataframe thead th {\n",
       "        text-align: right;\n",
       "    }\n",
       "</style>\n",
       "<table border=\"1\" class=\"dataframe\">\n",
       "  <thead>\n",
       "    <tr style=\"text-align: right;\">\n",
       "      <th></th>\n",
       "      <th>PID</th>\n",
       "      <th>Blue</th>\n",
       "      <th>Wi_Fi</th>\n",
       "      <th>Tch_Scr</th>\n",
       "      <th>Ext_Mem</th>\n",
       "      <th>Px_h</th>\n",
       "      <th>Px_w</th>\n",
       "      <th>Scr_h</th>\n",
       "      <th>Scr_w</th>\n",
       "      <th>PC</th>\n",
       "      <th>FC</th>\n",
       "      <th>Int_Mem</th>\n",
       "      <th>Bty_Pwr</th>\n",
       "      <th>RAM</th>\n",
       "      <th>Depth</th>\n",
       "      <th>Weight</th>\n",
       "      <th>Price</th>\n",
       "      <th>Px</th>\n",
       "      <th>Scr_d</th>\n",
       "    </tr>\n",
       "  </thead>\n",
       "  <tbody>\n",
       "    <tr>\n",
       "      <th>30</th>\n",
       "      <td>TVF078Y</td>\n",
       "      <td>yes</td>\n",
       "      <td>yes</td>\n",
       "      <td>yes</td>\n",
       "      <td>yes</td>\n",
       "      <td>2580</td>\n",
       "      <td>2120</td>\n",
       "      <td>8</td>\n",
       "      <td>6</td>\n",
       "      <td>64</td>\n",
       "      <td>32</td>\n",
       "      <td>512</td>\n",
       "      <td>4860</td>\n",
       "      <td>8</td>\n",
       "      <td>3</td>\n",
       "      <td>90</td>\n",
       "      <td>29999</td>\n",
       "      <td>5469600</td>\n",
       "      <td>10.0</td>\n",
       "    </tr>\n",
       "    <tr>\n",
       "      <th>42</th>\n",
       "      <td>WZB298K</td>\n",
       "      <td>yes</td>\n",
       "      <td>yes</td>\n",
       "      <td>yes</td>\n",
       "      <td>yes</td>\n",
       "      <td>2580</td>\n",
       "      <td>1980</td>\n",
       "      <td>8</td>\n",
       "      <td>6</td>\n",
       "      <td>64</td>\n",
       "      <td>32</td>\n",
       "      <td>1024</td>\n",
       "      <td>5600</td>\n",
       "      <td>8</td>\n",
       "      <td>3</td>\n",
       "      <td>160</td>\n",
       "      <td>39000</td>\n",
       "      <td>5108400</td>\n",
       "      <td>10.0</td>\n",
       "    </tr>\n",
       "    <tr>\n",
       "      <th>32</th>\n",
       "      <td>TYS938L</td>\n",
       "      <td>yes</td>\n",
       "      <td>yes</td>\n",
       "      <td>yes</td>\n",
       "      <td>yes</td>\n",
       "      <td>2580</td>\n",
       "      <td>2120</td>\n",
       "      <td>8</td>\n",
       "      <td>6</td>\n",
       "      <td>64</td>\n",
       "      <td>32</td>\n",
       "      <td>1024</td>\n",
       "      <td>4860</td>\n",
       "      <td>8</td>\n",
       "      <td>3</td>\n",
       "      <td>120</td>\n",
       "      <td>46777</td>\n",
       "      <td>5469600</td>\n",
       "      <td>10.0</td>\n",
       "    </tr>\n",
       "  </tbody>\n",
       "</table>\n",
       "</div>"
      ],
      "text/plain": [
       "        PID Blue Wi_Fi Tch_Scr Ext_Mem  Px_h  Px_w  Scr_h  Scr_w  PC  FC  \\\n",
       "30  TVF078Y  yes   yes     yes     yes  2580  2120      8      6  64  32   \n",
       "42  WZB298K  yes   yes     yes     yes  2580  1980      8      6  64  32   \n",
       "32  TYS938L  yes   yes     yes     yes  2580  2120      8      6  64  32   \n",
       "\n",
       "    Int_Mem  Bty_Pwr  RAM  Depth  Weight  Price       Px  Scr_d  \n",
       "30      512     4860    8      3      90  29999  5469600   10.0  \n",
       "42     1024     5600    8      3     160  39000  5108400   10.0  \n",
       "32     1024     4860    8      3     120  46777  5469600   10.0  "
      ]
     },
     "execution_count": 171,
     "metadata": {},
     "output_type": "execute_result"
    }
   ],
   "source": [
    "# Sort the dataframe according to the \"Price\" feature in ascending order and display it\n",
    "df1_sorted=df1.sort_values(by=\"Price\",ascending=True)\n",
    "df1_sorted"
   ]
  },
  {
   "cell_type": "markdown",
   "metadata": {
    "id": "Zn6iT-HQSocg"
   },
   "source": [
    "Observations:\n",
    "\n",
    "Based on all the logical conditions obtained through analysis of the features, we are left with three phones.\n",
    "\n",
    "The most expensive of these phones is the \"TYS938L\" model and the least expensive is the \"TVF078Y\" model.\n",
    "\n",
    "We could let the children choose from these three phones as per their preferences."
   ]
  },
  {
   "cell_type": "markdown",
   "metadata": {
    "id": "O09ZVXlbSvhj"
   },
   "source": [
    "# Task 9 - Study the variability of the features in the original data set"
   ]
  },
  {
   "cell_type": "code",
   "execution_count": 183,
   "metadata": {
    "id": "grfzKBDyN86r"
   },
   "outputs": [
    {
     "name": "stdout",
     "output_type": "stream",
     "text": [
      "Px_h       0.000000\n",
      "Px_w       0.038985\n",
      "Scr_h      0.000000\n",
      "Scr_w      0.000000\n",
      "PC         0.000000\n",
      "FC         0.000000\n",
      "Int_Mem    0.346410\n",
      "Bty_Pwr    0.083663\n",
      "RAM        0.000000\n",
      "Depth      0.000000\n",
      "Weight     0.284747\n",
      "Price      0.217569\n",
      "Px         0.038985\n",
      "Scr_d      0.000000\n",
      "Name: Deviation, dtype: float64\n"
     ]
    }
   ],
   "source": [
    "# Calculate the ratio of the standard deviation to the mean for all the numerical features in the dataframe\n",
    "# Store these values in a new series wherein the rows are the features and the only column is the calculated ratio\n",
    "# Name the series as \"deviations\"\n",
    "numeric_features = df1.select_dtypes(include=[\"number\"])\n",
    "deviations = (numeric_features.std() / numeric_features.mean())\n",
    "deviations.name = \"Deviation\"\n",
    "print(deviations)\n",
    "\n"
   ]
  },
  {
   "cell_type": "code",
   "execution_count": 187,
   "metadata": {
    "id": "sBRqrnVaN86s"
   },
   "outputs": [
    {
     "name": "stdout",
     "output_type": "stream",
     "text": [
      "Int_Mem    0.346410\n",
      "Weight     0.284747\n",
      "Price      0.217569\n",
      "Bty_Pwr    0.083663\n",
      "Px_w       0.038985\n",
      "Px         0.038985\n",
      "Px_h       0.000000\n",
      "Scr_h      0.000000\n",
      "Scr_w      0.000000\n",
      "PC         0.000000\n",
      "FC         0.000000\n",
      "RAM        0.000000\n",
      "Depth      0.000000\n",
      "Scr_d      0.000000\n",
      "Name: Deviation, dtype: float64\n"
     ]
    }
   ],
   "source": [
    "# View the \"deviations\" series after sorting it in descending order\n",
    "deviations_ascending=deviations.sort_values(ascending=False)\n",
    "print(deviations_ascending)"
   ]
  },
  {
   "cell_type": "markdown",
   "metadata": {
    "id": "RSypqWHuSzJU"
   },
   "source": [
    "Observations:\n",
    "\n",
    "The ratio of the standard deviation to the mean of a feature normalises it in a way.\n",
    "\n",
    "This allows for comparison between multiple features.\n",
    "\n",
    "The most variable feature in the original data set is the internal memory of the phones.\n",
    "\n",
    "The least variable feature in the original data set is the number of screen pixels in the horizontal axis.\n",
    "\n",
    "Although most features don't seem so variable, the prices of the phones are quite variable.\n",
    "\n",
    "Feel free to investigate what could be the cause of this difference in variability.\n",
    "\n",
    "Note: We encourage you to extend this analysis further and see what else you can find.\n",
    "\n",
    "Note: Please refer to the official website of Python and its libraries for various Python documentations."
   ]
  },
  {
   "cell_type": "markdown",
   "metadata": {
    "id": "kE4_U-R9TI_d"
   },
   "source": [
    "# Conclusion\n",
    "1. We have used concepts of descriptive statistics to study and work with a data set that contains mobile phone specifications.\n",
    "\n",
    "2. We were able to recommend three phone models to the client which she can then propose to her children."
   ]
  }
 ],
 "metadata": {
  "colab": {
   "provenance": []
  },
  "kernelspec": {
   "display_name": "Python 3 (ipykernel)",
   "language": "python",
   "name": "python3"
  },
  "language_info": {
   "codemirror_mode": {
    "name": "ipython",
    "version": 3
   },
   "file_extension": ".py",
   "mimetype": "text/x-python",
   "name": "python",
   "nbconvert_exporter": "python",
   "pygments_lexer": "ipython3",
   "version": "3.12.7"
  }
 },
 "nbformat": 4,
 "nbformat_minor": 4
}
